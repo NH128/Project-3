{
 "cells": [
  {
   "cell_type": "code",
   "execution_count": null,
   "id": "0e02d014-4fb8-4bc5-9792-0a9e558a6d16",
   "metadata": {},
   "outputs": [],
   "source": [
    "Australian_Data_Mod.xlsx"
   ]
  },
  {
   "cell_type": "code",
   "execution_count": 1,
   "id": "8ddb851a-1143-404f-bf92-a75fb36fd96d",
   "metadata": {
    "tags": []
   },
   "outputs": [],
   "source": [
    "import pandas as pd\n",
    "import numpy as np\n",
    "from sklearn.model_selection import train_test_split\n",
    "from sklearn.preprocessing import StandardScaler\n",
    "from tensorflow.keras.models import Sequential\n",
    "from tensorflow.keras.layers import Dense\n",
    "\n",
    "from pathlib import Path\n",
    "\n",
    "%matplotlib inline\n"
   ]
  },
  {
   "cell_type": "code",
   "execution_count": 2,
   "id": "4461052a-3bba-49b4-af71-b90d2d4ec02b",
   "metadata": {
    "tags": []
   },
   "outputs": [],
   "source": [
    "data = Path(\"C:/Users/Nick Hugh/Repos/Project 3/Nick Hugh Data/Australian_Data_Mod.xlsx\")\n",
    "source_df = pd.read_excel(data, index_col=\"date\", parse_dates=True)\n",
    "# source_df"
   ]
  },
  {
   "cell_type": "code",
   "execution_count": 3,
   "id": "e852d82e-6aed-4bcf-bb77-e598a768ab68",
   "metadata": {
    "tags": []
   },
   "outputs": [],
   "source": [
    "source_df['ASX Small Ords Accum (Ex 100)'] = source_df['ASX Small Ords Accum (Ex 100)'].pct_change()  \n",
    "source_df['Energy'] = source_df['Energy'].pct_change()  \n",
    "source_df['Materials'] = source_df['Materials'].pct_change()   \n",
    "source_df['Telecomm Services'] = source_df['Telecomm Services'].pct_change()  \n",
    "source_df['S&P/ASX 200(TR)m'] = source_df['S&P/ASX 200(TR)m'].pct_change()   \n",
    "source_df['Property Trusts'] = source_df['Property Trusts'].pct_change()   \n",
    "source_df['Capital Goods'] = source_df['Capital Goods'].pct_change()   \n",
    "\n",
    "# source_df"
   ]
  },
  {
   "cell_type": "code",
   "execution_count": 4,
   "id": "e952b75c-4579-4131-922d-54bd14dc7663",
   "metadata": {
    "tags": []
   },
   "outputs": [
    {
     "data": {
      "text/plain": [
       "Index(['ASX Small Ords Accum (Ex 100)', 'Energy', 'Materials',\n",
       "       'Telecomm Services', 'S&P/ASX 200(TR)m', 'Property Trusts',\n",
       "       'Capital Goods', 'AU NAB Business Confidence',\n",
       "       'AU NAB Business Conditions', 'AU NAB Trading Conditions',\n",
       "       'AU NAB Profitability', 'Aus NAB Employment', 'AU NAB Forward Orders',\n",
       "       'AU NAB Stocks', 'AU NAB Labour Costs',\n",
       "       'AU NAB Price of Final Products', 'Aus Employed - Unemployment Rate',\n",
       "       'AU NAB Capacity Utilisation', 'Aus AW Hours', 'Aus Real GDP mom%',\n",
       "       'Aus Nominal GDP mom%',\n",
       "       'Aus Gross Operating Surplus-Private Non financial mom%',\n",
       "       'Aus Non farm unit labour costs', 'Aus Wages share % GDP',\n",
       "       'Aus Rates of Pay Private Sector mom%',\n",
       "       'Aus Westpac-MI Consumer Sentiment Index',\n",
       "       'Aus Change in inventories Private real % GDP',\n",
       "       'Aus non Farm GDP real mom%', 'Aust Real Retail Turnover - Total mom%',\n",
       "       'Aus CPI All Groups', 'Aus CPI All Groups ex volatile items',\n",
       "       'Aus CPI Weighted Median', 'Aus CPI Trimmed Mean',\n",
       "       'Aus Private Dwelling Investment mom%',\n",
       "       'Aus Private Capex Equip Investment ex transfers mom%',\n",
       "       'Aus GDP - Household Consumption mom%',\n",
       "       'Aus GDP - Private Investment mom%', 'Aus Terms of Trade',\n",
       "       'Aus Net External Debt mom%',\n",
       "       'NAB Business Conditions Deviation from Avge',\n",
       "       'NAB- NAPMNO Deviation from Avge',\n",
       "       'Aus Non-Residential Construction Investment mom%',\n",
       "       'Aus Average Hours(Market sector)', 'Aus GDP per Hour Worked',\n",
       "       'Aus GDP per Hour Worked(Mkt sector)',\n",
       "       'Aus NAB Business Confidence (SA)', 'Aus NAB Business Conditions(SA)',\n",
       "       'AU NAB Trading Conditions(SA)', 'AU NAB Profitability(SA)',\n",
       "       'Aus NAB Employment(SA)', 'Aus NAB Forward Orders(SA)',\n",
       "       'AU NAB Stocks(SA)', 'AU NAB Labour Costs(SA)',\n",
       "       'AU NAB Purchase Costs(SA)', 'AU NAB Prices(SA)',\n",
       "       'AU NAB Capacity Utilisation(SA)', 'Aus Interest on Dwellings mom%',\n",
       "       'Aus Consumer Debt Interest mom%', 'Aus Current Account Deficit % GDP',\n",
       "       'Aus Household Interest Payments to Disposabl Income',\n",
       "       'Aus Household Housing Interest Payments to Disp Inc',\n",
       "       'Aus Household Debt to Assets', 'Aus Housing Debt to Housing Assets',\n",
       "       'Aus Total Assets to Disposable Income',\n",
       "       'Aus Financial  Assets to Disposable Income',\n",
       "       'Aus Househld Assets- Dwellings',\n",
       "       'Aus Househld Assets- Consumer Durables',\n",
       "       'Aus Household Assets- Deposits',\n",
       "       'Aus Household Assets- Reserves Life, Pension funds',\n",
       "       'Aus Household Assets- Equity', 'Aus Household Assets- other Financial',\n",
       "       'Aus Household Assets -Total Financial',\n",
       "       'Aus Household Debt to Disposable Income',\n",
       "       'Aus Housing Debt to Disposable Income',\n",
       "       'Aus Housing Debt(est) % of annual Aust GDP',\n",
       "       'NAB Business Conditions SD from MAV(12)',\n",
       "       'AUS Current Account % of AUS GDP',\n",
       "       'Aus Aggregate Monthly Hours Worked mom%',\n",
       "       'Aus Employed - Labour Force mom%',\n",
       "       'NAB fwd Orders detrended, normalised',\n",
       "       'NAB Retail - BusConditions v Total Business Con(2)',\n",
       "       'NAB FBP - BusinessConditions rel overall Condit(2)',\n",
       "       'Australia General government net debtPercent of GDP',\n",
       "       'AU Westpac-MI Consumer Sentiment Index - Buy major HH item',\n",
       "       'AU Westpac-MI Consumer Sentiment Index - Family Finances now',\n",
       "       'AU Westpac-MI Consumer Sentiment Index - Family Finances 1yr',\n",
       "       'AU Westpac-MI Consumer Sentiment Index - Economic Conditions 1yr',\n",
       "       'AU Westpac-MI Consumer Sentiment Index - Economic Conditions 5yr',\n",
       "       'Aus Employment to Population Ratio', 'Aus Employed  (Part time)',\n",
       "       'WBC Consumer Economic Conditions 5yr - 1yr',\n",
       "       'WBC WBC Consumer Sentiment Time to buy a House',\n",
       "       'Aust Underemployment rate'],\n",
       "      dtype='object')"
      ]
     },
     "execution_count": 4,
     "metadata": {},
     "output_type": "execute_result"
    }
   ],
   "source": [
    "source_df = source_df.dropna()\n",
    "source_df.columns"
   ]
  },
  {
   "cell_type": "code",
   "execution_count": 5,
   "id": "8c2d636c-e7d1-4a98-8082-ec4a14c9b813",
   "metadata": {
    "tags": []
   },
   "outputs": [],
   "source": [
    "# source_df.columns"
   ]
  },
  {
   "cell_type": "code",
   "execution_count": 6,
   "id": "90d31445-b4a8-4918-851f-a08b701fdb4c",
   "metadata": {
    "tags": []
   },
   "outputs": [
    {
     "data": {
      "text/html": [
       "<div>\n",
       "<style scoped>\n",
       "    .dataframe tbody tr th:only-of-type {\n",
       "        vertical-align: middle;\n",
       "    }\n",
       "\n",
       "    .dataframe tbody tr th {\n",
       "        vertical-align: top;\n",
       "    }\n",
       "\n",
       "    .dataframe thead th {\n",
       "        text-align: right;\n",
       "    }\n",
       "</style>\n",
       "<table border=\"1\" class=\"dataframe\">\n",
       "  <thead>\n",
       "    <tr style=\"text-align: right;\">\n",
       "      <th></th>\n",
       "      <th>Energy</th>\n",
       "      <th>Materials</th>\n",
       "      <th>Telecomm Services</th>\n",
       "    </tr>\n",
       "    <tr>\n",
       "      <th>date</th>\n",
       "      <th></th>\n",
       "      <th></th>\n",
       "      <th></th>\n",
       "    </tr>\n",
       "  </thead>\n",
       "  <tbody>\n",
       "    <tr>\n",
       "      <th>2000-03-31</th>\n",
       "      <td>0.032393</td>\n",
       "      <td>0.036486</td>\n",
       "      <td>0.033157</td>\n",
       "    </tr>\n",
       "    <tr>\n",
       "      <th>2000-04-30</th>\n",
       "      <td>0.030626</td>\n",
       "      <td>0.035538</td>\n",
       "      <td>-0.102991</td>\n",
       "    </tr>\n",
       "    <tr>\n",
       "      <th>2000-05-31</th>\n",
       "      <td>0.197696</td>\n",
       "      <td>-0.013241</td>\n",
       "      <td>-0.101981</td>\n",
       "    </tr>\n",
       "    <tr>\n",
       "      <th>2000-06-30</th>\n",
       "      <td>0.041103</td>\n",
       "      <td>0.118688</td>\n",
       "      <td>0.008445</td>\n",
       "    </tr>\n",
       "    <tr>\n",
       "      <th>2000-07-31</th>\n",
       "      <td>-0.003734</td>\n",
       "      <td>-0.026677</td>\n",
       "      <td>0.028783</td>\n",
       "    </tr>\n",
       "    <tr>\n",
       "      <th>...</th>\n",
       "      <td>...</td>\n",
       "      <td>...</td>\n",
       "      <td>...</td>\n",
       "    </tr>\n",
       "    <tr>\n",
       "      <th>2022-02-28</th>\n",
       "      <td>0.085746</td>\n",
       "      <td>0.051654</td>\n",
       "      <td>-0.021885</td>\n",
       "    </tr>\n",
       "    <tr>\n",
       "      <th>2022-03-31</th>\n",
       "      <td>0.097534</td>\n",
       "      <td>0.088795</td>\n",
       "      <td>0.050997</td>\n",
       "    </tr>\n",
       "    <tr>\n",
       "      <th>2022-04-30</th>\n",
       "      <td>0.025210</td>\n",
       "      <td>-0.043322</td>\n",
       "      <td>-0.003230</td>\n",
       "    </tr>\n",
       "    <tr>\n",
       "      <th>2022-05-31</th>\n",
       "      <td>-0.006981</td>\n",
       "      <td>0.001416</td>\n",
       "      <td>-0.064700</td>\n",
       "    </tr>\n",
       "    <tr>\n",
       "      <th>2022-06-30</th>\n",
       "      <td>-0.002692</td>\n",
       "      <td>-0.123978</td>\n",
       "      <td>-0.035905</td>\n",
       "    </tr>\n",
       "  </tbody>\n",
       "</table>\n",
       "<p>268 rows × 3 columns</p>\n",
       "</div>"
      ],
      "text/plain": [
       "              Energy  Materials  Telecomm Services\n",
       "date                                              \n",
       "2000-03-31  0.032393   0.036486           0.033157\n",
       "2000-04-30  0.030626   0.035538          -0.102991\n",
       "2000-05-31  0.197696  -0.013241          -0.101981\n",
       "2000-06-30  0.041103   0.118688           0.008445\n",
       "2000-07-31 -0.003734  -0.026677           0.028783\n",
       "...              ...        ...                ...\n",
       "2022-02-28  0.085746   0.051654          -0.021885\n",
       "2022-03-31  0.097534   0.088795           0.050997\n",
       "2022-04-30  0.025210  -0.043322          -0.003230\n",
       "2022-05-31 -0.006981   0.001416          -0.064700\n",
       "2022-06-30 -0.002692  -0.123978          -0.035905\n",
       "\n",
       "[268 rows x 3 columns]"
      ]
     },
     "execution_count": 6,
     "metadata": {},
     "output_type": "execute_result"
    }
   ],
   "source": [
    "y = source_df[['Energy', 'Materials','Telecomm Services']]\n",
    "y\n"
   ]
  },
  {
   "cell_type": "code",
   "execution_count": 7,
   "id": "0d1e5d38-d657-46b7-bbdf-a7c8ab79d4b0",
   "metadata": {
    "tags": []
   },
   "outputs": [
    {
     "data": {
      "text/html": [
       "<div>\n",
       "<style scoped>\n",
       "    .dataframe tbody tr th:only-of-type {\n",
       "        vertical-align: middle;\n",
       "    }\n",
       "\n",
       "    .dataframe tbody tr th {\n",
       "        vertical-align: top;\n",
       "    }\n",
       "\n",
       "    .dataframe thead th {\n",
       "        text-align: right;\n",
       "    }\n",
       "</style>\n",
       "<table border=\"1\" class=\"dataframe\">\n",
       "  <thead>\n",
       "    <tr style=\"text-align: right;\">\n",
       "      <th></th>\n",
       "      <th>Energy</th>\n",
       "      <th>Materials</th>\n",
       "      <th>Telecomm Services</th>\n",
       "    </tr>\n",
       "  </thead>\n",
       "  <tbody>\n",
       "    <tr>\n",
       "      <th>count</th>\n",
       "      <td>268.000000</td>\n",
       "      <td>268.000000</td>\n",
       "      <td>268.000000</td>\n",
       "    </tr>\n",
       "    <tr>\n",
       "      <th>mean</th>\n",
       "      <td>0.009310</td>\n",
       "      <td>0.010599</td>\n",
       "      <td>0.003100</td>\n",
       "    </tr>\n",
       "    <tr>\n",
       "      <th>std</th>\n",
       "      <td>0.066372</td>\n",
       "      <td>0.057077</td>\n",
       "      <td>0.049083</td>\n",
       "    </tr>\n",
       "    <tr>\n",
       "      <th>min</th>\n",
       "      <td>-0.375299</td>\n",
       "      <td>-0.227355</td>\n",
       "      <td>-0.146576</td>\n",
       "    </tr>\n",
       "    <tr>\n",
       "      <th>25%</th>\n",
       "      <td>-0.022561</td>\n",
       "      <td>-0.023850</td>\n",
       "      <td>-0.026925</td>\n",
       "    </tr>\n",
       "    <tr>\n",
       "      <th>50%</th>\n",
       "      <td>0.011456</td>\n",
       "      <td>0.010315</td>\n",
       "      <td>0.004041</td>\n",
       "    </tr>\n",
       "    <tr>\n",
       "      <th>75%</th>\n",
       "      <td>0.045313</td>\n",
       "      <td>0.048819</td>\n",
       "      <td>0.038463</td>\n",
       "    </tr>\n",
       "    <tr>\n",
       "      <th>max</th>\n",
       "      <td>0.284530</td>\n",
       "      <td>0.144698</td>\n",
       "      <td>0.136368</td>\n",
       "    </tr>\n",
       "  </tbody>\n",
       "</table>\n",
       "</div>"
      ],
      "text/plain": [
       "           Energy   Materials  Telecomm Services\n",
       "count  268.000000  268.000000         268.000000\n",
       "mean     0.009310    0.010599           0.003100\n",
       "std      0.066372    0.057077           0.049083\n",
       "min     -0.375299   -0.227355          -0.146576\n",
       "25%     -0.022561   -0.023850          -0.026925\n",
       "50%      0.011456    0.010315           0.004041\n",
       "75%      0.045313    0.048819           0.038463\n",
       "max      0.284530    0.144698           0.136368"
      ]
     },
     "execution_count": 7,
     "metadata": {},
     "output_type": "execute_result"
    }
   ],
   "source": [
    "y.describe()"
   ]
  },
  {
   "cell_type": "code",
   "execution_count": 8,
   "id": "62ace686-e1a6-414d-92f9-b122430a282b",
   "metadata": {
    "tags": []
   },
   "outputs": [
    {
     "data": {
      "text/html": [
       "<div>\n",
       "<style scoped>\n",
       "    .dataframe tbody tr th:only-of-type {\n",
       "        vertical-align: middle;\n",
       "    }\n",
       "\n",
       "    .dataframe tbody tr th {\n",
       "        vertical-align: top;\n",
       "    }\n",
       "\n",
       "    .dataframe thead th {\n",
       "        text-align: right;\n",
       "    }\n",
       "</style>\n",
       "<table border=\"1\" class=\"dataframe\">\n",
       "  <thead>\n",
       "    <tr style=\"text-align: right;\">\n",
       "      <th></th>\n",
       "      <th>Aus Employed - Unemployment Rate</th>\n",
       "      <th>Aus CPI All Groups</th>\n",
       "      <th>Aus Terms of Trade</th>\n",
       "      <th>Aus Total Assets to Disposable Income</th>\n",
       "      <th>Aust Underemployment rate</th>\n",
       "      <th>Aus Real GDP mom%</th>\n",
       "      <th>Aus Nominal GDP mom%</th>\n",
       "    </tr>\n",
       "    <tr>\n",
       "      <th>date</th>\n",
       "      <th></th>\n",
       "      <th></th>\n",
       "      <th></th>\n",
       "      <th></th>\n",
       "      <th></th>\n",
       "      <th></th>\n",
       "      <th></th>\n",
       "    </tr>\n",
       "  </thead>\n",
       "  <tbody>\n",
       "    <tr>\n",
       "      <th>2000-03-31</th>\n",
       "      <td>6.56</td>\n",
       "      <td>2.80</td>\n",
       "      <td>55.30</td>\n",
       "      <td>662.90</td>\n",
       "      <td>5.74</td>\n",
       "      <td>0.136509</td>\n",
       "      <td>1.023948</td>\n",
       "    </tr>\n",
       "    <tr>\n",
       "      <th>2000-04-30</th>\n",
       "      <td>6.38</td>\n",
       "      <td>2.90</td>\n",
       "      <td>55.00</td>\n",
       "      <td>664.52</td>\n",
       "      <td>5.92</td>\n",
       "      <td>0.303085</td>\n",
       "      <td>0.398187</td>\n",
       "    </tr>\n",
       "    <tr>\n",
       "      <th>2000-05-31</th>\n",
       "      <td>6.41</td>\n",
       "      <td>3.00</td>\n",
       "      <td>54.70</td>\n",
       "      <td>666.18</td>\n",
       "      <td>6.41</td>\n",
       "      <td>0.312245</td>\n",
       "      <td>0.409827</td>\n",
       "    </tr>\n",
       "    <tr>\n",
       "      <th>2000-06-30</th>\n",
       "      <td>6.11</td>\n",
       "      <td>3.10</td>\n",
       "      <td>54.40</td>\n",
       "      <td>667.80</td>\n",
       "      <td>5.93</td>\n",
       "      <td>0.301228</td>\n",
       "      <td>0.394989</td>\n",
       "    </tr>\n",
       "    <tr>\n",
       "      <th>2000-07-31</th>\n",
       "      <td>5.95</td>\n",
       "      <td>4.11</td>\n",
       "      <td>54.64</td>\n",
       "      <td>663.52</td>\n",
       "      <td>5.70</td>\n",
       "      <td>0.093540</td>\n",
       "      <td>0.837095</td>\n",
       "    </tr>\n",
       "    <tr>\n",
       "      <th>...</th>\n",
       "      <td>...</td>\n",
       "      <td>...</td>\n",
       "      <td>...</td>\n",
       "      <td>...</td>\n",
       "      <td>...</td>\n",
       "      <td>...</td>\n",
       "      <td>...</td>\n",
       "    </tr>\n",
       "    <tr>\n",
       "      <th>2022-02-28</th>\n",
       "      <td>4.01</td>\n",
       "      <td>4.65</td>\n",
       "      <td>109.94</td>\n",
       "      <td>1140.73</td>\n",
       "      <td>6.50</td>\n",
       "      <td>0.135983</td>\n",
       "      <td>1.246100</td>\n",
       "    </tr>\n",
       "    <tr>\n",
       "      <th>2022-03-31</th>\n",
       "      <td>3.92</td>\n",
       "      <td>5.20</td>\n",
       "      <td>112.90</td>\n",
       "      <td>1139.90</td>\n",
       "      <td>6.33</td>\n",
       "      <td>0.150346</td>\n",
       "      <td>1.362633</td>\n",
       "    </tr>\n",
       "    <tr>\n",
       "      <th>2022-04-30</th>\n",
       "      <td>3.87</td>\n",
       "      <td>5.53</td>\n",
       "      <td>114.68</td>\n",
       "      <td>1124.80</td>\n",
       "      <td>6.19</td>\n",
       "      <td>0.287909</td>\n",
       "      <td>1.346359</td>\n",
       "    </tr>\n",
       "    <tr>\n",
       "      <th>2022-05-31</th>\n",
       "      <td>3.91</td>\n",
       "      <td>5.87</td>\n",
       "      <td>116.52</td>\n",
       "      <td>1109.20</td>\n",
       "      <td>5.83</td>\n",
       "      <td>0.296653</td>\n",
       "      <td>1.372756</td>\n",
       "    </tr>\n",
       "    <tr>\n",
       "      <th>2022-06-30</th>\n",
       "      <td>3.57</td>\n",
       "      <td>6.20</td>\n",
       "      <td>118.30</td>\n",
       "      <td>1094.10</td>\n",
       "      <td>6.12</td>\n",
       "      <td>0.286233</td>\n",
       "      <td>1.310484</td>\n",
       "    </tr>\n",
       "  </tbody>\n",
       "</table>\n",
       "<p>268 rows × 7 columns</p>\n",
       "</div>"
      ],
      "text/plain": [
       "            Aus Employed - Unemployment Rate  Aus CPI All Groups  \\\n",
       "date                                                               \n",
       "2000-03-31                              6.56                2.80   \n",
       "2000-04-30                              6.38                2.90   \n",
       "2000-05-31                              6.41                3.00   \n",
       "2000-06-30                              6.11                3.10   \n",
       "2000-07-31                              5.95                4.11   \n",
       "...                                      ...                 ...   \n",
       "2022-02-28                              4.01                4.65   \n",
       "2022-03-31                              3.92                5.20   \n",
       "2022-04-30                              3.87                5.53   \n",
       "2022-05-31                              3.91                5.87   \n",
       "2022-06-30                              3.57                6.20   \n",
       "\n",
       "            Aus Terms of Trade  Aus Total Assets to Disposable Income  \\\n",
       "date                                                                    \n",
       "2000-03-31               55.30                                 662.90   \n",
       "2000-04-30               55.00                                 664.52   \n",
       "2000-05-31               54.70                                 666.18   \n",
       "2000-06-30               54.40                                 667.80   \n",
       "2000-07-31               54.64                                 663.52   \n",
       "...                        ...                                    ...   \n",
       "2022-02-28              109.94                                1140.73   \n",
       "2022-03-31              112.90                                1139.90   \n",
       "2022-04-30              114.68                                1124.80   \n",
       "2022-05-31              116.52                                1109.20   \n",
       "2022-06-30              118.30                                1094.10   \n",
       "\n",
       "            Aust Underemployment rate  Aus Real GDP mom%  Aus Nominal GDP mom%  \n",
       "date                                                                            \n",
       "2000-03-31                       5.74           0.136509              1.023948  \n",
       "2000-04-30                       5.92           0.303085              0.398187  \n",
       "2000-05-31                       6.41           0.312245              0.409827  \n",
       "2000-06-30                       5.93           0.301228              0.394989  \n",
       "2000-07-31                       5.70           0.093540              0.837095  \n",
       "...                               ...                ...                   ...  \n",
       "2022-02-28                       6.50           0.135983              1.246100  \n",
       "2022-03-31                       6.33           0.150346              1.362633  \n",
       "2022-04-30                       6.19           0.287909              1.346359  \n",
       "2022-05-31                       5.83           0.296653              1.372756  \n",
       "2022-06-30                       6.12           0.286233              1.310484  \n",
       "\n",
       "[268 rows x 7 columns]"
      ]
     },
     "execution_count": 8,
     "metadata": {},
     "output_type": "execute_result"
    }
   ],
   "source": [
    "X = source_df\n",
    "# X = X.drop(columns=['ASX Small Ords Accum (Ex 100)', 'Energy', 'Materials','Telecomm Services', 'S&P/ASX 200(TR)m', 'Property Trusts', 'Capital Goods'])\n",
    "# X = X[['AU NAB Business Confidence','AU NAB Business Conditions', 'AU NAB Trading Conditions', 'AU NAB Profitability', \n",
    "#        'Aus NAB Employment', 'AU NAB Forward Orders', 'AU NAB Stocks', 'AU NAB Labour Costs', 'AU NAB Price of Final Products',\n",
    "#        'AU NAB Capacity Utilisation']]\n",
    "\n",
    "X = X[['Aus Employed - Unemployment Rate', 'Aus CPI All Groups','Aus Terms of Trade',\n",
    "               'Aus Total Assets to Disposable Income','Aust Underemployment rate','Aus Real GDP mom%','Aus Nominal GDP mom%']]\n",
    "\n",
    "# X = df[x_variables]y_SPASX_Energy = df[‘S&P/ASX 200 - Energy Returns’].dropna()\n",
    "# y_SPASX_Materials = df[‘S&P/ASX 200 - Materials Returns’].dropna()\n",
    "# y_SPASX_Telecommunication = df[‘S&P/ASX 200 - Telecommunication Returns’].dropna()\n",
    "\n",
    "\n",
    "X"
   ]
  },
  {
   "cell_type": "code",
   "execution_count": 9,
   "id": "7a4732c0-c01f-4b4f-a02d-482b8a04eb8f",
   "metadata": {},
   "outputs": [],
   "source": [
    "# Create training and testing datasets\n",
    "X_train, X_test, y_train, y_test = train_test_split(X, y, random_state=1)\n"
   ]
  },
  {
   "cell_type": "code",
   "execution_count": 10,
   "id": "669584ac-e6fa-488b-b8cf-230acd80922d",
   "metadata": {
    "tags": []
   },
   "outputs": [],
   "source": [
    "# Create scaler instance\n",
    "X_scaler = StandardScaler()\n",
    "\n",
    "# Fit the scaler\n",
    "X_scaler.fit(X_train)\n",
    "\n",
    "# Scale the data\n",
    "X_train_scaled = X_scaler.transform(X_train)\n",
    "X_test_scaled = X_scaler.transform(X_test)"
   ]
  },
  {
   "cell_type": "code",
   "execution_count": 11,
   "id": "bd462d4b-cbb7-4235-ace1-fc2665c9edc7",
   "metadata": {
    "tags": []
   },
   "outputs": [],
   "source": [
    "# Create a sequential neural network model\n",
    "neuron = Sequential()"
   ]
  },
  {
   "cell_type": "code",
   "execution_count": 12,
   "id": "d0cd6d85-7825-4c17-acd5-ba0e3f276eb1",
   "metadata": {
    "tags": []
   },
   "outputs": [],
   "source": [
    "# Add the input and the hidden layer to the model\n",
    "number_inputs = len(X.columns)\n",
    "number_hidden_nodes = len(X.columns)\n",
    "\n",
    "neuron.add(Dense(units=number_hidden_nodes, activation=\"relu\", input_dim=number_inputs))"
   ]
  },
  {
   "cell_type": "code",
   "execution_count": 13,
   "id": "9404774b-72a4-4252-9c4e-55bba5402e51",
   "metadata": {
    "tags": []
   },
   "outputs": [
    {
     "data": {
      "text/plain": [
       "7"
      ]
     },
     "execution_count": 13,
     "metadata": {},
     "output_type": "execute_result"
    }
   ],
   "source": [
    "number_inputs"
   ]
  },
  {
   "cell_type": "code",
   "execution_count": 14,
   "id": "4c9fc220-e799-44c8-b53e-47e221bb527c",
   "metadata": {},
   "outputs": [],
   "source": [
    "# Second hidden layer\n",
    "neuron.add(Dense(units=number_hidden_nodes, activation=\"relu\"))"
   ]
  },
  {
   "cell_type": "code",
   "execution_count": 15,
   "id": "12ee3455-4544-4173-aca1-6e7015ff7f10",
   "metadata": {
    "tags": []
   },
   "outputs": [
    {
     "data": {
      "text/plain": [
       "3"
      ]
     },
     "execution_count": 15,
     "metadata": {},
     "output_type": "execute_result"
    }
   ],
   "source": [
    "# Add the output layer\n",
    "\n",
    "number_classes = len(y.columns)\n",
    "\n",
    "neuron.add(Dense(units=number_classes, activation=\"sigmoid\"))\n",
    "\n",
    "number_classes\n"
   ]
  },
  {
   "cell_type": "code",
   "execution_count": 16,
   "id": "5d85d3ca-a244-4e9b-bad0-40cc3668c3c5",
   "metadata": {
    "tags": []
   },
   "outputs": [
    {
     "name": "stdout",
     "output_type": "stream",
     "text": [
      "Model: \"sequential\"\n",
      "_________________________________________________________________\n",
      " Layer (type)                Output Shape              Param #   \n",
      "=================================================================\n",
      " dense (Dense)               (None, 7)                 56        \n",
      "                                                                 \n",
      " dense_1 (Dense)             (None, 7)                 56        \n",
      "                                                                 \n",
      " dense_2 (Dense)             (None, 3)                 24        \n",
      "                                                                 \n",
      "=================================================================\n",
      "Total params: 136 (544.00 Byte)\n",
      "Trainable params: 136 (544.00 Byte)\n",
      "Non-trainable params: 0 (0.00 Byte)\n",
      "_________________________________________________________________\n"
     ]
    }
   ],
   "source": [
    "# Display model summary\n",
    "neuron.summary()"
   ]
  },
  {
   "cell_type": "code",
   "execution_count": 17,
   "id": "aff70ec2-717a-4c3a-a44e-66bdeb05eb4c",
   "metadata": {
    "tags": []
   },
   "outputs": [],
   "source": [
    "from tensorflow.keras.losses import mean_squared_error\n",
    "\n",
    "# neuron.compile(loss=mean_squared_error, optimizer='sgd') #, metrics=[\"accuracy\"])\n",
    "neuron.compile(loss=\"mean_squared_error\", optimizer=\"adam\", metrics=[\"mse\",\"mae\"])\n"
   ]
  },
  {
   "cell_type": "code",
   "execution_count": 18,
   "id": "fabf96eb-dc38-4264-9792-6b33316a6cd3",
   "metadata": {
    "tags": []
   },
   "outputs": [
    {
     "name": "stdout",
     "output_type": "stream",
     "text": [
      "Epoch 1/100\n",
      "7/7 [==============================] - 1s 5ms/step - loss: 0.2882 - mse: 0.2882 - mae: 0.5230\n",
      "Epoch 2/100\n",
      "7/7 [==============================] - 0s 5ms/step - loss: 0.2779 - mse: 0.2779 - mae: 0.5137\n",
      "Epoch 3/100\n",
      "7/7 [==============================] - 0s 6ms/step - loss: 0.2684 - mse: 0.2684 - mae: 0.5049\n",
      "Epoch 4/100\n",
      "7/7 [==============================] - 0s 4ms/step - loss: 0.2594 - mse: 0.2594 - mae: 0.4963\n",
      "Epoch 5/100\n",
      "7/7 [==============================] - 0s 5ms/step - loss: 0.2504 - mse: 0.2504 - mae: 0.4876\n",
      "Epoch 6/100\n",
      "7/7 [==============================] - 0s 4ms/step - loss: 0.2426 - mse: 0.2426 - mae: 0.4799\n",
      "Epoch 7/100\n",
      "7/7 [==============================] - 0s 5ms/step - loss: 0.2345 - mse: 0.2345 - mae: 0.4715\n",
      "Epoch 8/100\n",
      "7/7 [==============================] - 0s 5ms/step - loss: 0.2274 - mse: 0.2274 - mae: 0.4639\n",
      "Epoch 9/100\n",
      "7/7 [==============================] - 0s 3ms/step - loss: 0.2202 - mse: 0.2202 - mae: 0.4560\n",
      "Epoch 10/100\n",
      "7/7 [==============================] - 0s 4ms/step - loss: 0.2134 - mse: 0.2134 - mae: 0.4484\n",
      "Epoch 11/100\n",
      "7/7 [==============================] - 0s 5ms/step - loss: 0.2069 - mse: 0.2069 - mae: 0.4409\n",
      "Epoch 12/100\n",
      "7/7 [==============================] - 0s 5ms/step - loss: 0.2006 - mse: 0.2006 - mae: 0.4334\n",
      "Epoch 13/100\n",
      "7/7 [==============================] - 0s 5ms/step - loss: 0.1945 - mse: 0.1945 - mae: 0.4261\n",
      "Epoch 14/100\n",
      "7/7 [==============================] - 0s 4ms/step - loss: 0.1885 - mse: 0.1885 - mae: 0.4184\n",
      "Epoch 15/100\n",
      "7/7 [==============================] - 0s 5ms/step - loss: 0.1824 - mse: 0.1824 - mae: 0.4107\n",
      "Epoch 16/100\n",
      "7/7 [==============================] - 0s 6ms/step - loss: 0.1762 - mse: 0.1762 - mae: 0.4026\n",
      "Epoch 17/100\n",
      "7/7 [==============================] - 0s 3ms/step - loss: 0.1700 - mse: 0.1700 - mae: 0.3942\n",
      "Epoch 18/100\n",
      "7/7 [==============================] - 0s 4ms/step - loss: 0.1637 - mse: 0.1637 - mae: 0.3859\n",
      "Epoch 19/100\n",
      "7/7 [==============================] - 0s 4ms/step - loss: 0.1577 - mse: 0.1577 - mae: 0.3775\n",
      "Epoch 20/100\n",
      "7/7 [==============================] - 0s 5ms/step - loss: 0.1517 - mse: 0.1517 - mae: 0.3690\n",
      "Epoch 21/100\n",
      "7/7 [==============================] - 0s 6ms/step - loss: 0.1458 - mse: 0.1458 - mae: 0.3604\n",
      "Epoch 22/100\n",
      "7/7 [==============================] - 0s 2ms/step - loss: 0.1399 - mse: 0.1399 - mae: 0.3516\n",
      "Epoch 23/100\n",
      "7/7 [==============================] - 0s 5ms/step - loss: 0.1341 - mse: 0.1341 - mae: 0.3429\n",
      "Epoch 24/100\n",
      "7/7 [==============================] - 0s 5ms/step - loss: 0.1284 - mse: 0.1284 - mae: 0.3339\n",
      "Epoch 25/100\n",
      "7/7 [==============================] - 0s 3ms/step - loss: 0.1228 - mse: 0.1228 - mae: 0.3251\n",
      "Epoch 26/100\n",
      "7/7 [==============================] - 0s 4ms/step - loss: 0.1174 - mse: 0.1174 - mae: 0.3163\n",
      "Epoch 27/100\n",
      "7/7 [==============================] - 0s 4ms/step - loss: 0.1122 - mse: 0.1122 - mae: 0.3077\n",
      "Epoch 28/100\n",
      "7/7 [==============================] - 0s 5ms/step - loss: 0.1072 - mse: 0.1072 - mae: 0.2992\n",
      "Epoch 29/100\n",
      "7/7 [==============================] - 0s 7ms/step - loss: 0.1023 - mse: 0.1023 - mae: 0.2906\n",
      "Epoch 30/100\n",
      "7/7 [==============================] - 0s 4ms/step - loss: 0.0976 - mse: 0.0976 - mae: 0.2823\n",
      "Epoch 31/100\n",
      "7/7 [==============================] - 0s 6ms/step - loss: 0.0931 - mse: 0.0931 - mae: 0.2741\n",
      "Epoch 32/100\n",
      "7/7 [==============================] - 0s 3ms/step - loss: 0.0888 - mse: 0.0888 - mae: 0.2662\n",
      "Epoch 33/100\n",
      "7/7 [==============================] - 0s 5ms/step - loss: 0.0847 - mse: 0.0847 - mae: 0.2586\n",
      "Epoch 34/100\n",
      "7/7 [==============================] - 0s 6ms/step - loss: 0.0807 - mse: 0.0807 - mae: 0.2510\n",
      "Epoch 35/100\n",
      "7/7 [==============================] - 0s 3ms/step - loss: 0.0769 - mse: 0.0769 - mae: 0.2438\n",
      "Epoch 36/100\n",
      "7/7 [==============================] - 0s 6ms/step - loss: 0.0732 - mse: 0.0732 - mae: 0.2367\n",
      "Epoch 37/100\n",
      "7/7 [==============================] - 0s 4ms/step - loss: 0.0697 - mse: 0.0697 - mae: 0.2298\n",
      "Epoch 38/100\n",
      "7/7 [==============================] - 0s 5ms/step - loss: 0.0664 - mse: 0.0664 - mae: 0.2231\n",
      "Epoch 39/100\n",
      "7/7 [==============================] - 0s 3ms/step - loss: 0.0632 - mse: 0.0632 - mae: 0.2165\n",
      "Epoch 40/100\n",
      "7/7 [==============================] - 0s 4ms/step - loss: 0.0601 - mse: 0.0601 - mae: 0.2100\n",
      "Epoch 41/100\n",
      "7/7 [==============================] - 0s 6ms/step - loss: 0.0572 - mse: 0.0572 - mae: 0.2038\n",
      "Epoch 42/100\n",
      "7/7 [==============================] - 0s 5ms/step - loss: 0.0543 - mse: 0.0543 - mae: 0.1977\n",
      "Epoch 43/100\n",
      "7/7 [==============================] - 0s 8ms/step - loss: 0.0517 - mse: 0.0517 - mae: 0.1918\n",
      "Epoch 44/100\n",
      "7/7 [==============================] - 0s 3ms/step - loss: 0.0491 - mse: 0.0491 - mae: 0.1861\n",
      "Epoch 45/100\n",
      "7/7 [==============================] - 0s 4ms/step - loss: 0.0467 - mse: 0.0467 - mae: 0.1805\n",
      "Epoch 46/100\n",
      "7/7 [==============================] - 0s 4ms/step - loss: 0.0444 - mse: 0.0444 - mae: 0.1752\n",
      "Epoch 47/100\n",
      "7/7 [==============================] - 0s 5ms/step - loss: 0.0423 - mse: 0.0423 - mae: 0.1701\n",
      "Epoch 48/100\n",
      "7/7 [==============================] - 0s 6ms/step - loss: 0.0402 - mse: 0.0402 - mae: 0.1649\n",
      "Epoch 49/100\n",
      "7/7 [==============================] - 0s 3ms/step - loss: 0.0383 - mse: 0.0383 - mae: 0.1601\n",
      "Epoch 50/100\n",
      "7/7 [==============================] - 0s 6ms/step - loss: 0.0365 - mse: 0.0365 - mae: 0.1553\n",
      "Epoch 51/100\n",
      "7/7 [==============================] - 0s 4ms/step - loss: 0.0347 - mse: 0.0347 - mae: 0.1507\n",
      "Epoch 52/100\n",
      "7/7 [==============================] - 0s 5ms/step - loss: 0.0331 - mse: 0.0331 - mae: 0.1463\n",
      "Epoch 53/100\n",
      "7/7 [==============================] - 0s 7ms/step - loss: 0.0315 - mse: 0.0315 - mae: 0.1420\n",
      "Epoch 54/100\n",
      "7/7 [==============================] - 0s 7ms/step - loss: 0.0299 - mse: 0.0299 - mae: 0.1378\n",
      "Epoch 55/100\n",
      "7/7 [==============================] - 0s 5ms/step - loss: 0.0285 - mse: 0.0285 - mae: 0.1338\n",
      "Epoch 56/100\n",
      "7/7 [==============================] - 0s 3ms/step - loss: 0.0272 - mse: 0.0272 - mae: 0.1300\n",
      "Epoch 57/100\n",
      "7/7 [==============================] - 0s 2ms/step - loss: 0.0258 - mse: 0.0258 - mae: 0.1261\n",
      "Epoch 58/100\n",
      "7/7 [==============================] - 0s 4ms/step - loss: 0.0246 - mse: 0.0246 - mae: 0.1224\n",
      "Epoch 59/100\n",
      "7/7 [==============================] - 0s 2ms/step - loss: 0.0234 - mse: 0.0234 - mae: 0.1189\n",
      "Epoch 60/100\n",
      "7/7 [==============================] - 0s 2ms/step - loss: 0.0223 - mse: 0.0223 - mae: 0.1156\n",
      "Epoch 61/100\n",
      "7/7 [==============================] - 0s 5ms/step - loss: 0.0212 - mse: 0.0212 - mae: 0.1123\n",
      "Epoch 62/100\n",
      "7/7 [==============================] - 0s 5ms/step - loss: 0.0202 - mse: 0.0202 - mae: 0.1092\n",
      "Epoch 63/100\n",
      "7/7 [==============================] - 0s 6ms/step - loss: 0.0193 - mse: 0.0193 - mae: 0.1060\n",
      "Epoch 64/100\n",
      "7/7 [==============================] - 0s 5ms/step - loss: 0.0184 - mse: 0.0184 - mae: 0.1031\n",
      "Epoch 65/100\n",
      "7/7 [==============================] - 0s 6ms/step - loss: 0.0176 - mse: 0.0176 - mae: 0.1004\n",
      "Epoch 66/100\n",
      "7/7 [==============================] - 0s 3ms/step - loss: 0.0168 - mse: 0.0168 - mae: 0.0978\n",
      "Epoch 67/100\n",
      "7/7 [==============================] - 0s 3ms/step - loss: 0.0160 - mse: 0.0160 - mae: 0.0953\n",
      "Epoch 68/100\n",
      "7/7 [==============================] - 0s 6ms/step - loss: 0.0153 - mse: 0.0153 - mae: 0.0928\n",
      "Epoch 69/100\n",
      "7/7 [==============================] - 0s 3ms/step - loss: 0.0146 - mse: 0.0146 - mae: 0.0905\n",
      "Epoch 70/100\n",
      "7/7 [==============================] - 0s 3ms/step - loss: 0.0140 - mse: 0.0140 - mae: 0.0882\n",
      "Epoch 71/100\n",
      "7/7 [==============================] - 0s 5ms/step - loss: 0.0134 - mse: 0.0134 - mae: 0.0861\n",
      "Epoch 72/100\n",
      "7/7 [==============================] - 0s 5ms/step - loss: 0.0128 - mse: 0.0128 - mae: 0.0840\n",
      "Epoch 73/100\n",
      "7/7 [==============================] - 0s 6ms/step - loss: 0.0122 - mse: 0.0122 - mae: 0.0821\n",
      "Epoch 74/100\n",
      "7/7 [==============================] - 0s 4ms/step - loss: 0.0117 - mse: 0.0117 - mae: 0.0802\n",
      "Epoch 75/100\n",
      "7/7 [==============================] - 0s 3ms/step - loss: 0.0112 - mse: 0.0112 - mae: 0.0783\n",
      "Epoch 76/100\n",
      "7/7 [==============================] - 0s 6ms/step - loss: 0.0108 - mse: 0.0108 - mae: 0.0767\n",
      "Epoch 77/100\n",
      "7/7 [==============================] - 0s 3ms/step - loss: 0.0103 - mse: 0.0103 - mae: 0.0751\n",
      "Epoch 78/100\n",
      "7/7 [==============================] - 0s 5ms/step - loss: 0.0099 - mse: 0.0099 - mae: 0.0736\n",
      "Epoch 79/100\n",
      "7/7 [==============================] - 0s 4ms/step - loss: 0.0095 - mse: 0.0095 - mae: 0.0722\n",
      "Epoch 80/100\n",
      "7/7 [==============================] - 0s 5ms/step - loss: 0.0092 - mse: 0.0092 - mae: 0.0708\n",
      "Epoch 81/100\n",
      "7/7 [==============================] - 0s 5ms/step - loss: 0.0088 - mse: 0.0088 - mae: 0.0694\n",
      "Epoch 82/100\n",
      "7/7 [==============================] - 0s 2ms/step - loss: 0.0085 - mse: 0.0085 - mae: 0.0681\n",
      "Epoch 83/100\n",
      "7/7 [==============================] - 0s 3ms/step - loss: 0.0082 - mse: 0.0082 - mae: 0.0669\n",
      "Epoch 84/100\n",
      "7/7 [==============================] - 0s 4ms/step - loss: 0.0080 - mse: 0.0080 - mae: 0.0658\n",
      "Epoch 85/100\n",
      "7/7 [==============================] - 0s 2ms/step - loss: 0.0077 - mse: 0.0077 - mae: 0.0647\n",
      "Epoch 86/100\n",
      "7/7 [==============================] - 0s 5ms/step - loss: 0.0074 - mse: 0.0074 - mae: 0.0637\n",
      "Epoch 87/100\n",
      "7/7 [==============================] - 0s 4ms/step - loss: 0.0072 - mse: 0.0072 - mae: 0.0626\n",
      "Epoch 88/100\n",
      "7/7 [==============================] - 0s 4ms/step - loss: 0.0070 - mse: 0.0070 - mae: 0.0617\n",
      "Epoch 89/100\n",
      "7/7 [==============================] - 0s 4ms/step - loss: 0.0068 - mse: 0.0068 - mae: 0.0609\n",
      "Epoch 90/100\n",
      "7/7 [==============================] - 0s 4ms/step - loss: 0.0066 - mse: 0.0066 - mae: 0.0600\n",
      "Epoch 91/100\n",
      "7/7 [==============================] - 0s 5ms/step - loss: 0.0064 - mse: 0.0064 - mae: 0.0593\n",
      "Epoch 92/100\n",
      "7/7 [==============================] - 0s 6ms/step - loss: 0.0063 - mse: 0.0063 - mae: 0.0586\n",
      "Epoch 93/100\n",
      "7/7 [==============================] - 0s 3ms/step - loss: 0.0061 - mse: 0.0061 - mae: 0.0579\n",
      "Epoch 94/100\n",
      "7/7 [==============================] - 0s 5ms/step - loss: 0.0060 - mse: 0.0060 - mae: 0.0572\n",
      "Epoch 95/100\n",
      "7/7 [==============================] - 0s 6ms/step - loss: 0.0059 - mse: 0.0059 - mae: 0.0566\n",
      "Epoch 96/100\n",
      "7/7 [==============================] - 0s 2ms/step - loss: 0.0057 - mse: 0.0057 - mae: 0.0561\n",
      "Epoch 97/100\n",
      "7/7 [==============================] - 0s 5ms/step - loss: 0.0056 - mse: 0.0056 - mae: 0.0556\n",
      "Epoch 98/100\n",
      "7/7 [==============================] - 0s 4ms/step - loss: 0.0055 - mse: 0.0055 - mae: 0.0550\n",
      "Epoch 99/100\n",
      "7/7 [==============================] - 0s 3ms/step - loss: 0.0054 - mse: 0.0054 - mae: 0.0546\n",
      "Epoch 100/100\n",
      "7/7 [==============================] - 0s 3ms/step - loss: 0.0053 - mse: 0.0053 - mae: 0.0541\n"
     ]
    }
   ],
   "source": [
    "# Fitting the model\n",
    "model = neuron.fit(X_train_scaled, y_train, epochs=100)\n",
    "\n",
    "# neuron.predict"
   ]
  },
  {
   "cell_type": "code",
   "execution_count": 25,
   "id": "77c1e680-f2ba-42a7-8710-ac8ff4a91dc5",
   "metadata": {},
   "outputs": [],
   "source": [
    "# Create a DataFrame with the history dictionary\n",
    "df = pd.DataFrame(model.history, index=range(1, len(model.history[\"loss\"]) + 1))"
   ]
  },
  {
   "cell_type": "code",
   "execution_count": 26,
   "id": "af157366-6d58-43ba-9e65-a9da1a558f29",
   "metadata": {
    "tags": []
   },
   "outputs": [
    {
     "data": {
      "text/html": [
       "<div>\n",
       "<style scoped>\n",
       "    .dataframe tbody tr th:only-of-type {\n",
       "        vertical-align: middle;\n",
       "    }\n",
       "\n",
       "    .dataframe tbody tr th {\n",
       "        vertical-align: top;\n",
       "    }\n",
       "\n",
       "    .dataframe thead th {\n",
       "        text-align: right;\n",
       "    }\n",
       "</style>\n",
       "<table border=\"1\" class=\"dataframe\">\n",
       "  <thead>\n",
       "    <tr style=\"text-align: right;\">\n",
       "      <th></th>\n",
       "      <th>loss</th>\n",
       "      <th>mse</th>\n",
       "      <th>mae</th>\n",
       "    </tr>\n",
       "  </thead>\n",
       "  <tbody>\n",
       "    <tr>\n",
       "      <th>1</th>\n",
       "      <td>0.288152</td>\n",
       "      <td>0.288152</td>\n",
       "      <td>0.522999</td>\n",
       "    </tr>\n",
       "    <tr>\n",
       "      <th>2</th>\n",
       "      <td>0.277907</td>\n",
       "      <td>0.277907</td>\n",
       "      <td>0.513695</td>\n",
       "    </tr>\n",
       "    <tr>\n",
       "      <th>3</th>\n",
       "      <td>0.268402</td>\n",
       "      <td>0.268402</td>\n",
       "      <td>0.504874</td>\n",
       "    </tr>\n",
       "    <tr>\n",
       "      <th>4</th>\n",
       "      <td>0.259387</td>\n",
       "      <td>0.259387</td>\n",
       "      <td>0.496277</td>\n",
       "    </tr>\n",
       "    <tr>\n",
       "      <th>5</th>\n",
       "      <td>0.250382</td>\n",
       "      <td>0.250382</td>\n",
       "      <td>0.487637</td>\n",
       "    </tr>\n",
       "    <tr>\n",
       "      <th>...</th>\n",
       "      <td>...</td>\n",
       "      <td>...</td>\n",
       "      <td>...</td>\n",
       "    </tr>\n",
       "    <tr>\n",
       "      <th>96</th>\n",
       "      <td>0.005726</td>\n",
       "      <td>0.005726</td>\n",
       "      <td>0.056067</td>\n",
       "    </tr>\n",
       "    <tr>\n",
       "      <th>97</th>\n",
       "      <td>0.005628</td>\n",
       "      <td>0.005628</td>\n",
       "      <td>0.055575</td>\n",
       "    </tr>\n",
       "    <tr>\n",
       "      <th>98</th>\n",
       "      <td>0.005519</td>\n",
       "      <td>0.005519</td>\n",
       "      <td>0.055047</td>\n",
       "    </tr>\n",
       "    <tr>\n",
       "      <th>99</th>\n",
       "      <td>0.005422</td>\n",
       "      <td>0.005422</td>\n",
       "      <td>0.054581</td>\n",
       "    </tr>\n",
       "    <tr>\n",
       "      <th>100</th>\n",
       "      <td>0.005333</td>\n",
       "      <td>0.005333</td>\n",
       "      <td>0.054128</td>\n",
       "    </tr>\n",
       "  </tbody>\n",
       "</table>\n",
       "<p>100 rows × 3 columns</p>\n",
       "</div>"
      ],
      "text/plain": [
       "         loss       mse       mae\n",
       "1    0.288152  0.288152  0.522999\n",
       "2    0.277907  0.277907  0.513695\n",
       "3    0.268402  0.268402  0.504874\n",
       "4    0.259387  0.259387  0.496277\n",
       "5    0.250382  0.250382  0.487637\n",
       "..        ...       ...       ...\n",
       "96   0.005726  0.005726  0.056067\n",
       "97   0.005628  0.005628  0.055575\n",
       "98   0.005519  0.005519  0.055047\n",
       "99   0.005422  0.005422  0.054581\n",
       "100  0.005333  0.005333  0.054128\n",
       "\n",
       "[100 rows x 3 columns]"
      ]
     },
     "execution_count": 26,
     "metadata": {},
     "output_type": "execute_result"
    }
   ],
   "source": [
    "df"
   ]
  },
  {
   "cell_type": "code",
   "execution_count": 21,
   "id": "19e65995-2599-40c1-99e7-00ef5fe1fa0f",
   "metadata": {
    "tags": []
   },
   "outputs": [
    {
     "data": {
      "text/plain": [
       "<Axes: >"
      ]
     },
     "execution_count": 21,
     "metadata": {},
     "output_type": "execute_result"
    },
    {
     "data": {
      "image/png": "[encoded data removed]",
      "text/plain": [
       "<Figure size 640x480 with 1 Axes>"
      ]
     },
     "metadata": {},
     "output_type": "display_data"
    }
   ],
   "source": [
    "# Plot the loss\n",
    "df.plot(y=\"loss\")"
   ]
  },
  {
   "cell_type": "code",
   "execution_count": 22,
   "id": "5fb0129d-ec52-4604-bb63-2d621a553ec0",
   "metadata": {
    "tags": []
   },
   "outputs": [
    {
     "data": {
      "text/plain": [
       "dict_keys(['loss', 'mse', 'mae'])"
      ]
     },
     "execution_count": 22,
     "metadata": {},
     "output_type": "execute_result"
    }
   ],
   "source": [
    "model_history = model.history\n",
    "model_history.keys()"
   ]
  },
  {
   "cell_type": "code",
   "execution_count": 23,
   "id": "fcecd585-4084-47df-91f1-86b2b4185754",
   "metadata": {
    "tags": []
   },
   "outputs": [
    {
     "data": {
      "text/plain": [
       "<Axes: >"
      ]
     },
     "execution_count": 23,
     "metadata": {},
     "output_type": "execute_result"
    },
    {
     "data": {
      "image/png": "[encoded data removed]",
      "text/plain": [
       "<Figure size 640x480 with 1 Axes>"
      ]
     },
     "metadata": {},
     "output_type": "display_data"
    }
   ],
   "source": [
    "# Plot the mse\n",
    "df.plot(y=\"mse\")"
   ]
  },
  {
   "cell_type": "code",
   "execution_count": 27,
   "id": "e7733711-0ee4-4ca2-97e0-7836666f91d2",
   "metadata": {
    "tags": []
   },
   "outputs": [
    {
     "data": {
      "text/plain": [
       "<Axes: >"
      ]
     },
     "execution_count": 27,
     "metadata": {},
     "output_type": "execute_result"
    },
    {
     "data": {
      "image/png": "[encoded data removed]",
      "text/plain": [
       "<Figure size 640x480 with 1 Axes>"
      ]
     },
     "metadata": {},
     "output_type": "display_data"
    }
   ],
   "source": [
    "# Plot the mse\n",
    "df.plot(y=\"mae\")"
   ]
  },
  {
   "cell_type": "code",
   "execution_count": 28,
   "id": "2ef72771-04ae-4911-b5b8-dd2f0a111bc0",
   "metadata": {
    "tags": []
   },
   "outputs": [],
   "source": [
    "# Evaluate the model using testing data\n",
    "# model_loss, model_accuracy = neuron.evaluate(X_test_scaled, y_test, verbose=2)\n",
    "\n",
    "# # Display evaluation results\n",
    "# print(f\"Loss: {model_loss}, Accuracy: {model_accuracy}\")"
   ]
  },
  {
   "cell_type": "code",
   "execution_count": null,
   "id": "115b2f3c-3583-4fd3-8f5b-95f1ea0f2693",
   "metadata": {},
   "outputs": [],
   "source": [
    "# yhat = model.predict(X_train_scaled)\n",
    "# yhat = model.predict(X_test_scaled)"
   ]
  }
 ],
 "metadata": {
  "kernelspec": {
   "display_name": "Python 3 (ipykernel)",
   "language": "python",
   "name": "python3"
  },
  "language_info": {
   "codemirror_mode": {
    "name": "ipython",
    "version": 3
   },
   "file_extension": ".py",
   "mimetype": "text/x-python",
   "name": "python",
   "nbconvert_exporter": "python",
   "pygments_lexer": "ipython3",
   "version": "3.10.11"
  }
 },
 "nbformat": 4,
 "nbformat_minor": 5
}
